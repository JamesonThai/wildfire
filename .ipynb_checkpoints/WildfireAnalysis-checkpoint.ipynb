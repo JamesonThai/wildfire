version https://git-lfs.github.com/spec/v1
oid sha256:282994d2b363e839c90c7d3fc14181867897e8592ce7ecb2a9e925b4cdf7f2d0
size 394765069
